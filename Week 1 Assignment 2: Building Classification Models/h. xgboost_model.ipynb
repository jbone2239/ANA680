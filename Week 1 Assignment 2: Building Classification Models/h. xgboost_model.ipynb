{
 "cells": [
  {
   "cell_type": "code",
   "execution_count": 13,
   "id": "6d776fc6-d4fb-48b3-9e56-7c59cdcc7a93",
   "metadata": {},
   "outputs": [
    {
     "name": "stdout",
     "output_type": "stream",
     "text": [
      "XGBoost Results:\n",
      "Accuracy: 0.9474\n",
      "Confusion Matrix:\n",
      "[[102   1]\n",
      " [  8  60]]\n"
     ]
    }
   ],
   "source": [
    "# xgboost_model\n",
    "from prep_data import load_data\n",
    "from xgboost import XGBClassifier\n",
    "from sklearn.metrics import accuracy_score, confusion_matrix\n",
    "\n",
    "# load data\n",
    "X_train, X_test, y_train, y_test = load_data()\n",
    "\n",
    "# convert labels from {2, 4} to {0, 1} for XGBoost\n",
    "y_train = y_train.replace({2: 0, 4: 1})\n",
    "y_test = y_test.replace({2: 0, 4: 1})\n",
    "\n",
    "# create and train the XGBoost model\n",
    "model = XGBClassifier(eval_metric='logloss', random_state=42)\n",
    "model.fit(X_train, y_train)\n",
    "\n",
    "# make predictions\n",
    "y_pred = model.predict(X_test)\n",
    "\n",
    "# evaluate\n",
    "acc = accuracy_score(y_test, y_pred)\n",
    "cm = confusion_matrix(y_test, y_pred)\n",
    "\n",
    "# print results\n",
    "print(\"XGBoost Results:\")\n",
    "print(f\"Accuracy: {acc:.4f}\")\n",
    "print(\"Confusion Matrix:\")\n",
    "print(cm)\n",
    "\n"
   ]
  },
  {
   "cell_type": "code",
   "execution_count": null,
   "id": "062f7688-bcca-4da2-b7a9-410f3fb9c4a6",
   "metadata": {},
   "outputs": [],
   "source": []
  }
 ],
 "metadata": {
  "kernelspec": {
   "display_name": "Python 3 (ipykernel)",
   "language": "python",
   "name": "python3"
  },
  "language_info": {
   "codemirror_mode": {
    "name": "ipython",
    "version": 3
   },
   "file_extension": ".py",
   "mimetype": "text/x-python",
   "name": "python",
   "nbconvert_exporter": "python",
   "pygments_lexer": "ipython3",
   "version": "3.12.4"
  }
 },
 "nbformat": 4,
 "nbformat_minor": 5
}

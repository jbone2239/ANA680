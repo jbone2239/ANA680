{
 "cells": [
  {
   "cell_type": "code",
   "execution_count": 3,
   "id": "68c1b444-1021-4228-854f-1fdf85b9be4c",
   "metadata": {},
   "outputs": [
    {
     "name": "stdout",
     "output_type": "stream",
     "text": [
      "K-Nearest Neighbors (k=5) Results:\n",
      "Accuracy: 0.9474\n",
      "Confusion Matrix:\n",
      "[[102   1]\n",
      " [  8  60]]\n"
     ]
    }
   ],
   "source": [
    "#knn_model\n",
    "from prep_data import load_data\n",
    "from sklearn.neighbors import KNeighborsClassifier\n",
    "from sklearn.metrics import accuracy_score, confusion_matrix\n",
    "\n",
    "#load data\n",
    "X_train, X_test, y_train, y_test = load_data()\n",
    "\n",
    "#create and train the KNN model with k=5\n",
    "model = KNeighborsClassifier(n_neighbors=5)\n",
    "model.fit(X_train, y_train)\n",
    "\n",
    "# make predictions\n",
    "y_pred = model.predict(X_test)\n",
    "\n",
    "# evaluate\n",
    "acc = accuracy_score(y_test, y_pred)\n",
    "cm = confusion_matrix(y_test, y_pred)\n",
    "\n",
    "# print results\n",
    "print(\"K-Nearest Neighbors (k=5) Results:\")\n",
    "print(f\"Accuracy: {acc:.4f}\")\n",
    "print(\"Confusion Matrix:\")\n",
    "print(cm)\n"
   ]
  },
  {
   "cell_type": "code",
   "execution_count": null,
   "id": "9d70650d-4cc6-4287-b5fb-644093282f91",
   "metadata": {},
   "outputs": [],
   "source": []
  }
 ],
 "metadata": {
  "kernelspec": {
   "display_name": "Python 3 (ipykernel)",
   "language": "python",
   "name": "python3"
  },
  "language_info": {
   "codemirror_mode": {
    "name": "ipython",
    "version": 3
   },
   "file_extension": ".py",
   "mimetype": "text/x-python",
   "name": "python",
   "nbconvert_exporter": "python",
   "pygments_lexer": "ipython3",
   "version": "3.12.4"
  }
 },
 "nbformat": 4,
 "nbformat_minor": 5
}
